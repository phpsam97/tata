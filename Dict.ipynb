{
 "cells": [
  {
   "cell_type": "code",
   "execution_count": 11,
   "id": "d4fd2e18-6a53-46b9-8c33-99b5ef186bc5",
   "metadata": {},
   "outputs": [
    {
     "data": {
      "text/plain": [
       "{'name': 'Samir', 'age': 25, 'city': 'Pune'}"
      ]
     },
     "execution_count": 11,
     "metadata": {},
     "output_type": "execute_result"
    }
   ],
   "source": [
    "person #Dict use to store items using key, denoted by {}"
   ]
  },
  {
   "cell_type": "code",
   "execution_count": 10,
   "id": "6c30c7c8-66fe-4ead-b094-423ca13497e2",
   "metadata": {},
   "outputs": [
    {
     "data": {
      "text/plain": [
       "'Pune'"
      ]
     },
     "execution_count": 10,
     "metadata": {},
     "output_type": "execute_result"
    }
   ],
   "source": [
    "person['city'] # Access value using key not found then shows the error (Keyerror)"
   ]
  },
  {
   "cell_type": "code",
   "execution_count": 16,
   "id": "9a2a4dec-290f-40b0-9db9-cd8ce765dd39",
   "metadata": {},
   "outputs": [
    {
     "data": {
      "text/plain": [
       "'Pune'"
      ]
     },
     "execution_count": 16,
     "metadata": {},
     "output_type": "execute_result"
    }
   ],
   "source": [
    "person.get('city') #Shows the value if key present if not then no error"
   ]
  },
  {
   "cell_type": "code",
   "execution_count": 50,
   "id": "26a17e7f-006b-4ba3-8277-329eeed8f618",
   "metadata": {},
   "outputs": [],
   "source": [
    "person['id']='101' #Add new key or update key and value"
   ]
  },
  {
   "cell_type": "code",
   "execution_count": 54,
   "id": "7f4d02b5-9f21-4c7b-b28f-c6e1550d3384",
   "metadata": {},
   "outputs": [],
   "source": [
    "person.update({'id':102,'dept':'IT'}) #Update or add new keys and values "
   ]
  },
  {
   "cell_type": "code",
   "execution_count": 46,
   "id": "7c67946a-cd81-47f5-aaf3-497c180ca9ad",
   "metadata": {},
   "outputs": [
    {
     "data": {
      "text/plain": [
       "dict_keys(['name', 'age', 'city', 'id', 'dept', 'id1'])"
      ]
     },
     "execution_count": 46,
     "metadata": {},
     "output_type": "execute_result"
    }
   ],
   "source": [
    "person.keys() #For the available keys "
   ]
  },
  {
   "cell_type": "code",
   "execution_count": 45,
   "id": "044337a4-b43d-42c9-80e0-9ce0bf5035ca",
   "metadata": {},
   "outputs": [
    {
     "data": {
      "text/plain": [
       "dict_values(['Samir', 25, 'Pune', '101', 'IT', '101'])"
      ]
     },
     "execution_count": 45,
     "metadata": {},
     "output_type": "execute_result"
    }
   ],
   "source": [
    "person.values() #for the values from dict"
   ]
  },
  {
   "cell_type": "code",
   "execution_count": 44,
   "id": "c39b7c23-f8e6-4d8a-abcb-0478580cd4cc",
   "metadata": {},
   "outputs": [
    {
     "data": {
      "text/plain": [
       "dict_items([('name', 'Samir'), ('age', 25), ('city', 'Pune'), ('id', '101'), ('dept', 'IT'), ('id1', '101')])"
      ]
     },
     "execution_count": 44,
     "metadata": {},
     "output_type": "execute_result"
    }
   ],
   "source": [
    "person.items() #for the Key's and value's "
   ]
  },
  {
   "cell_type": "code",
   "execution_count": 51,
   "id": "aecbd7ba-960b-49fa-b471-174a1d61b1b6",
   "metadata": {},
   "outputs": [
    {
     "data": {
      "text/plain": [
       "'101'"
      ]
     },
     "execution_count": 51,
     "metadata": {},
     "output_type": "execute_result"
    }
   ],
   "source": [
    "person.pop('id1') #remove single key and value from dict"
   ]
  },
  {
   "cell_type": "code",
   "execution_count": 55,
   "id": "31e4ea19-f396-490c-9ac7-4a3cb7e6714b",
   "metadata": {},
   "outputs": [
    {
     "data": {
      "text/plain": [
       "('dept', 'IT')"
      ]
     },
     "execution_count": 55,
     "metadata": {},
     "output_type": "execute_result"
    }
   ],
   "source": [
    "person.popitem() #Its delete the Last key (Last in first out)"
   ]
  },
  {
   "cell_type": "code",
   "execution_count": null,
   "id": "20521d12-1f01-45ea-8fbc-203e1a1cfc08",
   "metadata": {},
   "outputs": [],
   "source": [
    "person.clear() # Clear the dict"
   ]
  },
  {
   "cell_type": "code",
   "execution_count": 57,
   "id": "e5b28bb6-221d-4da0-832a-750d5b567d53",
   "metadata": {},
   "outputs": [
    {
     "data": {
      "text/plain": [
       "'Pune'"
      ]
     },
     "execution_count": 57,
     "metadata": {},
     "output_type": "execute_result"
    }
   ],
   "source": [
    "person.setdefault('city','Mumbai') # if key available do nothing not availabe add new key"
   ]
  },
  {
   "cell_type": "code",
   "execution_count": 58,
   "id": "f9097395-4a12-47b6-ba05-bbf883be8763",
   "metadata": {},
   "outputs": [],
   "source": [
    "p=['id','name','salary']"
   ]
  },
  {
   "cell_type": "code",
   "execution_count": 60,
   "id": "ebc4b83d-3921-4a8d-a74d-0496e21ca64b",
   "metadata": {},
   "outputs": [
    {
     "data": {
      "text/plain": [
       "{'id': None, 'name': None, 'salary': None}"
      ]
     },
     "execution_count": 60,
     "metadata": {},
     "output_type": "execute_result"
    }
   ],
   "source": [
    "dict.fromkeys(p) #To convert list to dict default value is null, can give (p,0) "
   ]
  }
 ],
 "metadata": {
  "kernelspec": {
   "display_name": "Python [conda env:base] *",
   "language": "python",
   "name": "conda-base-py"
  },
  "language_info": {
   "codemirror_mode": {
    "name": "ipython",
    "version": 3
   },
   "file_extension": ".py",
   "mimetype": "text/x-python",
   "name": "python",
   "nbconvert_exporter": "python",
   "pygments_lexer": "ipython3",
   "version": "3.13.5"
  }
 },
 "nbformat": 4,
 "nbformat_minor": 5
}
