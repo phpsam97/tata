{
 "cells": [
  {
   "cell_type": "code",
   "execution_count": 5,
   "id": "b1115b2b-16e7-4820-9fe1-b4deef824833",
   "metadata": {},
   "outputs": [],
   "source": [
    "def odd_even(num):\n",
    "    odd=[]\n",
    "    even=[]\n",
    "    for i in num:\n",
    "        if i%2==0:\n",
    "            even.append(i)\n",
    "        else:\n",
    "            odd.append(i)\n",
    "    return odd,even\n",
    "p=[1,23,445,56,76,763,4543,5,432,423,4]\n",
    "odd,even=odd_even(p)"
   ]
  },
  {
   "cell_type": "code",
   "execution_count": 22,
   "id": "f6a7ad23-f378-4b72-a464-21564776e434",
   "metadata": {},
   "outputs": [
    {
     "name": "stdin",
     "output_type": "stream",
     "text": [
      " 5\n"
     ]
    },
    {
     "name": "stdout",
     "output_type": "stream",
     "text": [
      "5 is odd number\n"
     ]
    }
   ],
   "source": [
    "def check_num():\n",
    "    a=int(input())\n",
    "    if a<=1:\n",
    "        return 'Incorrect number'\n",
    "    if a%2==0:\n",
    "        return f'{a} is Even number'\n",
    "    else:\n",
    "        return f'{a} is odd number'\n",
    "print(check_num())"
   ]
  },
  {
   "cell_type": "code",
   "execution_count": 28,
   "id": "07718005-dc0e-4492-ad84-374946d0e326",
   "metadata": {},
   "outputs": [],
   "source": [
    "p=[1,23,445,56,76,763,4543,5,432,423,4]\n",
    "even=[i for i in p if i%2==0]\n",
    "odd=[i for i in p if i not in even]"
   ]
  },
  {
   "cell_type": "code",
   "execution_count": 29,
   "id": "b538ab43-9986-49d6-bb59-bd68bf593bc0",
   "metadata": {},
   "outputs": [
    {
     "data": {
      "text/plain": [
       "[56, 76, 432, 4]"
      ]
     },
     "execution_count": 29,
     "metadata": {},
     "output_type": "execute_result"
    }
   ],
   "source": [
    "p=[1,23,445,56,76,763,4543,5,432,423,4]\n",
    "even=list(filter(lambda x : x%2==0,p))"
   ]
  },
  {
   "cell_type": "code",
   "execution_count": 74,
   "id": "7c027c95-d223-4037-93aa-505082185946",
   "metadata": {},
   "outputs": [
    {
     "name": "stdout",
     "output_type": "stream",
     "text": [
      "65\n"
     ]
    }
   ],
   "source": [
    "a=[11,24,35,46,64,45,46,44,65,55]\n",
    "b=a[0]\n",
    "for i in a:\n",
    "    if i>b:\n",
    "        b=i\n",
    "print(b)"
   ]
  },
  {
   "cell_type": "code",
   "execution_count": 78,
   "id": "df11e5b1-2d46-4c5b-a65b-8d0446062a18",
   "metadata": {},
   "outputs": [
    {
     "data": {
      "text/plain": [
       "{'o': 7, 'u': 1, 'e': 1}"
      ]
     },
     "execution_count": 78,
     "metadata": {},
     "output_type": "execute_result"
    }
   ],
   "source": [
    "a='Your Toolbox for Python Projects'\n",
    "b={}\n",
    "for i in a.lower():\n",
    "    if i in 'a,e,i,o,u':\n",
    "        b[i]=b.get(i,0)+1\n",
    "b"
   ]
  },
  {
   "cell_type": "code",
   "execution_count": 85,
   "id": "b617de92-2236-4447-bf1c-7f445479c3fd",
   "metadata": {},
   "outputs": [
    {
     "name": "stdin",
     "output_type": "stream",
     "text": [
      " 121\n"
     ]
    },
    {
     "data": {
      "text/plain": [
       "'Palindrom'"
      ]
     },
     "execution_count": 85,
     "metadata": {},
     "output_type": "execute_result"
    }
   ],
   "source": [
    "def check_palindrom():\n",
    "    a=input()\n",
    "    b=a[::-1]\n",
    "    if a==b:\n",
    "        return 'Palindrom'\n",
    "    else:\n",
    "        return 'Not'\n",
    "check_palindrom()  "
   ]
  },
  {
   "cell_type": "code",
   "execution_count": 88,
   "id": "ba600714-7aaa-4965-8fc0-e8138750c2e9",
   "metadata": {},
   "outputs": [
    {
     "name": "stdin",
     "output_type": "stream",
     "text": [
      " madam\n"
     ]
    },
    {
     "name": "stdout",
     "output_type": "stream",
     "text": [
      "palindrom\n"
     ]
    }
   ],
   "source": [
    "print('palindrom' if (a:=input())==a[::-1] else 'not')"
   ]
  },
  {
   "cell_type": "code",
   "execution_count": 93,
   "id": "91db2af4-a235-4050-9965-774b5d98fd75",
   "metadata": {},
   "outputs": [
    {
     "name": "stdin",
     "output_type": "stream",
     "text": [
      " 153\n"
     ]
    },
    {
     "data": {
      "text/plain": [
       "'Armstrong number '"
      ]
     },
     "execution_count": 93,
     "metadata": {},
     "output_type": "execute_result"
    }
   ],
   "source": [
    "def armstrong_num():\n",
    "    a=int(input())\n",
    "    b=0\n",
    "    for i in str(a):\n",
    "        b+=int(i)**len(str(a))\n",
    "    if a==b:\n",
    "        return 'Armstrong number '\n",
    "    else:\n",
    "        return \"not\"\n",
    "armstrong_num()"
   ]
  },
  {
   "cell_type": "code",
   "execution_count": 118,
   "id": "15479f0f-2445-45c4-b40f-a3d820e47b6d",
   "metadata": {},
   "outputs": [
    {
     "name": "stdin",
     "output_type": "stream",
     "text": [
      " 1\n"
     ]
    },
    {
     "data": {
      "text/plain": [
       "'not'"
      ]
     },
     "execution_count": 118,
     "metadata": {},
     "output_type": "execute_result"
    }
   ],
   "source": [
    "def prime_num():\n",
    "    return \"Prime number\" if (a:=int(input()))>1 and all(a%i!=0 for i in range(2,a)) else \"not\"\n",
    "prime_num()"
   ]
  },
  {
   "cell_type": "code",
   "execution_count": 10,
   "id": "45770155-9ff6-4e44-a8ef-8c69bb252592",
   "metadata": {},
   "outputs": [
    {
     "name": "stdout",
     "output_type": "stream",
     "text": [
      "[0, 1, 1, 2, 3, 5, 8, 13, 21, 34, 55, 89]\n"
     ]
    }
   ],
   "source": [
    "def fibbo(num):\n",
    "    a,b=0,1\n",
    "    while a<=num:\n",
    "        yield a\n",
    "        a,b=b,a+b\n",
    "obj=list(fibbo(100))\n",
    "print(obj)"
   ]
  },
  {
   "cell_type": "code",
   "execution_count": 5,
   "id": "b0321f99-ccc0-4249-a55b-f8369e86cd49",
   "metadata": {},
   "outputs": [],
   "source": [
    "import pandas as pd"
   ]
  },
  {
   "cell_type": "code",
   "execution_count": 6,
   "id": "851adef0-440f-4fe6-82d2-05d76613da65",
   "metadata": {},
   "outputs": [],
   "source": [
    "import pyodbc"
   ]
  },
  {
   "cell_type": "code",
   "execution_count": 7,
   "id": "d80075c3-38be-48bb-80a4-dff12eeda751",
   "metadata": {},
   "outputs": [
    {
     "name": "stdout",
     "output_type": "stream",
     "text": [
      "['SQL Server', 'SQL Server Native Client RDA 11.0', 'ODBC Driver 17 for SQL Server', 'Oracle in OraDB21Home1']\n"
     ]
    }
   ],
   "source": [
    "print(pyodbc.drivers())"
   ]
  },
  {
   "cell_type": "code",
   "execution_count": 9,
   "id": "c1548bf6-c1f3-4cbb-9f45-80adadca4125",
   "metadata": {},
   "outputs": [],
   "source": [
    "import pyodbc\n",
    "\n",
    "conn = pyodbc.connect(\n",
    "    \"DRIVER={ODBC Driver 17 for SQL Server};\"\n",
    "    \"SERVER=localhost\\\\SQLEXPRESS;\"\n",
    "    \"DATABASE=practice;\"\n",
    "    \"Trusted_Connection=yes;\"\n",
    ")\n"
   ]
  },
  {
   "cell_type": "code",
   "execution_count": 10,
   "id": "8ece0352-d1b0-40c2-878b-84c424d548be",
   "metadata": {},
   "outputs": [],
   "source": [
    "cur=conn.cursor()"
   ]
  },
  {
   "cell_type": "code",
   "execution_count": 11,
   "id": "276d971e-41f1-4a1a-ae35-6176bf3a5210",
   "metadata": {},
   "outputs": [],
   "source": [
    "data=cur.execute(\"select * from employees\")"
   ]
  },
  {
   "cell_type": "code",
   "execution_count": 12,
   "id": "c68ea060-e916-40ae-996e-e1277fa90b11",
   "metadata": {},
   "outputs": [
    {
     "name": "stdout",
     "output_type": "stream",
     "text": [
      "(1, 'Amit Sharma', 28, 'M', 'IT', 66000, datetime.date(2020, 3, 15), 'Mumbai')\n",
      "(2, 'Neha Verma', 32, 'F', 'HR', 80525, datetime.date(2019, 7, 1), 'Delhi')\n",
      "(3, 'Ravi Kumar', 26, 'M', 'Finance', 55000, datetime.date(2021, 1, 10), 'Pune')\n",
      "(4, 'Priya Desai', 30, 'F', 'IT', 65000, datetime.date(2018, 11, 23), 'Bangalore')\n",
      "(6, 'Anjali Nair', 29, 'F', 'HR', 53000, datetime.date(2020, 9, 30), 'Mumbai')\n",
      "(8, 'Divya Singh', 27, 'F', 'Finance', 52000, datetime.date(2022, 6, 12), 'Delhi')\n",
      "(10, 'Sneha Kulkarni', 25, 'F', 'IT', 61000, datetime.date(2023, 4, 5), 'Pune')\n",
      "(11, 'samir phapale', 29, 'M', 'Finance', 55000, datetime.date(2024, 7, 30), 'Thane')\n",
      "(1, 'Amit Sharma', 28, 'M', 'IT', 60000, datetime.date(2020, 3, 15), 'Mumbai')\n",
      "(2, 'Neha Verma', 32, 'F', 'HR', 55000, datetime.date(2019, 7, 1), 'Delhi')\n",
      "(3, 'Ravi Kumar', 26, 'M', 'Finance', 50000, datetime.date(2021, 1, 10), 'Pune')\n",
      "(5, 'Suresh Patil', 35, 'M', 'Marketing', 48000, datetime.date(2017, 5, 14), 'Nagpur')\n",
      "(7, 'Rajeev Menon', 31, 'M', 'IT', 70000, datetime.date(2016, 8, 21), 'Chennai')\n",
      "(9, 'Manoj Tiwari', 34, 'M', 'Marketing', 47000, datetime.date(2015, 2, 18), 'Bhopal')\n"
     ]
    }
   ],
   "source": [
    "for row in data:\n",
    "    print(row)"
   ]
  },
  {
   "cell_type": "code",
   "execution_count": 13,
   "id": "d97f1100-44fb-4086-955d-32643266a677",
   "metadata": {},
   "outputs": [],
   "source": [
    "import pandas as pd"
   ]
  },
  {
   "cell_type": "code",
   "execution_count": 16,
   "id": "832d92c3-91f0-42bd-b6af-8ae067e4d471",
   "metadata": {},
   "outputs": [
    {
     "name": "stderr",
     "output_type": "stream",
     "text": [
      "C:\\Users\\samir\\AppData\\Local\\Temp\\ipykernel_22120\\1731302833.py:1: UserWarning: pandas only supports SQLAlchemy connectable (engine/connection) or database string URI or sqlite3 DBAPI2 connection. Other DBAPI2 objects are not tested. Please consider using SQLAlchemy.\n",
      "  df=pd.read_sql_table(\"employees\",conn)\n"
     ]
    },
    {
     "ename": "DatabaseError",
     "evalue": "Execution failed on sql '\n        SELECT\n            name\n        FROM\n            sqlite_master\n        WHERE\n            type IN ('table', 'view')\n            AND name=?;\n        ': ('42S02', \"[42S02] [Microsoft][ODBC Driver 17 for SQL Server][SQL Server]Invalid object name 'sqlite_master'. (208) (SQLExecDirectW); [42S02] [Microsoft][ODBC Driver 17 for SQL Server][SQL Server]Statement(s) could not be prepared. (8180)\")",
     "output_type": "error",
     "traceback": [
      "\u001b[1;31m---------------------------------------------------------------------------\u001b[0m",
      "\u001b[1;31mProgrammingError\u001b[0m                          Traceback (most recent call last)",
      "File \u001b[1;32m~\\anaconda3\\Lib\\site-packages\\pandas\\io\\sql.py:2674\u001b[0m, in \u001b[0;36mSQLiteDatabase.execute\u001b[1;34m(self, sql, params)\u001b[0m\n\u001b[0;32m   2673\u001b[0m \u001b[38;5;28;01mtry\u001b[39;00m:\n\u001b[1;32m-> 2674\u001b[0m     cur\u001b[38;5;241m.\u001b[39mexecute(sql, \u001b[38;5;241m*\u001b[39margs)\n\u001b[0;32m   2675\u001b[0m     \u001b[38;5;28;01mreturn\u001b[39;00m cur\n",
      "\u001b[1;31mProgrammingError\u001b[0m: ('42S02', \"[42S02] [Microsoft][ODBC Driver 17 for SQL Server][SQL Server]Invalid object name 'sqlite_master'. (208) (SQLExecDirectW); [42S02] [Microsoft][ODBC Driver 17 for SQL Server][SQL Server]Statement(s) could not be prepared. (8180)\")",
      "\nThe above exception was the direct cause of the following exception:\n",
      "\u001b[1;31mDatabaseError\u001b[0m                             Traceback (most recent call last)",
      "Cell \u001b[1;32mIn[16], line 1\u001b[0m\n\u001b[1;32m----> 1\u001b[0m df\u001b[38;5;241m=\u001b[39mpd\u001b[38;5;241m.\u001b[39mread_sql_table(\u001b[38;5;124m\"\u001b[39m\u001b[38;5;124memployees\u001b[39m\u001b[38;5;124m\"\u001b[39m,conn)\n",
      "File \u001b[1;32m~\\anaconda3\\Lib\\site-packages\\pandas\\io\\sql.py:385\u001b[0m, in \u001b[0;36mread_sql_table\u001b[1;34m(table_name, con, schema, index_col, coerce_float, parse_dates, columns, chunksize, dtype_backend)\u001b[0m\n\u001b[0;32m    382\u001b[0m \u001b[38;5;28;01massert\u001b[39;00m dtype_backend \u001b[38;5;129;01mis\u001b[39;00m \u001b[38;5;129;01mnot\u001b[39;00m lib\u001b[38;5;241m.\u001b[39mno_default\n\u001b[0;32m    384\u001b[0m \u001b[38;5;28;01mwith\u001b[39;00m pandasSQL_builder(con, schema\u001b[38;5;241m=\u001b[39mschema, need_transaction\u001b[38;5;241m=\u001b[39m\u001b[38;5;28;01mTrue\u001b[39;00m) \u001b[38;5;28;01mas\u001b[39;00m pandas_sql:\n\u001b[1;32m--> 385\u001b[0m     \u001b[38;5;28;01mif\u001b[39;00m \u001b[38;5;129;01mnot\u001b[39;00m pandas_sql\u001b[38;5;241m.\u001b[39mhas_table(table_name):\n\u001b[0;32m    386\u001b[0m         \u001b[38;5;28;01mraise\u001b[39;00m \u001b[38;5;167;01mValueError\u001b[39;00m(\u001b[38;5;124mf\u001b[39m\u001b[38;5;124m\"\u001b[39m\u001b[38;5;124mTable \u001b[39m\u001b[38;5;132;01m{\u001b[39;00mtable_name\u001b[38;5;132;01m}\u001b[39;00m\u001b[38;5;124m not found\u001b[39m\u001b[38;5;124m\"\u001b[39m)\n\u001b[0;32m    388\u001b[0m     table \u001b[38;5;241m=\u001b[39m pandas_sql\u001b[38;5;241m.\u001b[39mread_table(\n\u001b[0;32m    389\u001b[0m         table_name,\n\u001b[0;32m    390\u001b[0m         index_col\u001b[38;5;241m=\u001b[39mindex_col,\n\u001b[1;32m   (...)\u001b[0m\n\u001b[0;32m    395\u001b[0m         dtype_backend\u001b[38;5;241m=\u001b[39mdtype_backend,\n\u001b[0;32m    396\u001b[0m     )\n",
      "File \u001b[1;32m~\\anaconda3\\Lib\\site-packages\\pandas\\io\\sql.py:2865\u001b[0m, in \u001b[0;36mSQLiteDatabase.has_table\u001b[1;34m(self, name, schema)\u001b[0m\n\u001b[0;32m   2854\u001b[0m wld \u001b[38;5;241m=\u001b[39m \u001b[38;5;124m\"\u001b[39m\u001b[38;5;124m?\u001b[39m\u001b[38;5;124m\"\u001b[39m\n\u001b[0;32m   2855\u001b[0m query \u001b[38;5;241m=\u001b[39m \u001b[38;5;124mf\u001b[39m\u001b[38;5;124m\"\"\"\u001b[39m\n\u001b[0;32m   2856\u001b[0m \u001b[38;5;124mSELECT\u001b[39m\n\u001b[0;32m   2857\u001b[0m \u001b[38;5;124m    name\u001b[39m\n\u001b[1;32m   (...)\u001b[0m\n\u001b[0;32m   2862\u001b[0m \u001b[38;5;124m    AND name=\u001b[39m\u001b[38;5;132;01m{\u001b[39;00mwld\u001b[38;5;132;01m}\u001b[39;00m\u001b[38;5;124m;\u001b[39m\n\u001b[0;32m   2863\u001b[0m \u001b[38;5;124m\u001b[39m\u001b[38;5;124m\"\"\"\u001b[39m\n\u001b[1;32m-> 2865\u001b[0m \u001b[38;5;28;01mreturn\u001b[39;00m \u001b[38;5;28mlen\u001b[39m(\u001b[38;5;28mself\u001b[39m\u001b[38;5;241m.\u001b[39mexecute(query, [name])\u001b[38;5;241m.\u001b[39mfetchall()) \u001b[38;5;241m>\u001b[39m \u001b[38;5;241m0\u001b[39m\n",
      "File \u001b[1;32m~\\anaconda3\\Lib\\site-packages\\pandas\\io\\sql.py:2686\u001b[0m, in \u001b[0;36mSQLiteDatabase.execute\u001b[1;34m(self, sql, params)\u001b[0m\n\u001b[0;32m   2683\u001b[0m     \u001b[38;5;28;01mraise\u001b[39;00m ex \u001b[38;5;28;01mfrom\u001b[39;00m\u001b[38;5;250m \u001b[39m\u001b[38;5;21;01minner_exc\u001b[39;00m\n\u001b[0;32m   2685\u001b[0m ex \u001b[38;5;241m=\u001b[39m DatabaseError(\u001b[38;5;124mf\u001b[39m\u001b[38;5;124m\"\u001b[39m\u001b[38;5;124mExecution failed on sql \u001b[39m\u001b[38;5;124m'\u001b[39m\u001b[38;5;132;01m{\u001b[39;00msql\u001b[38;5;132;01m}\u001b[39;00m\u001b[38;5;124m'\u001b[39m\u001b[38;5;124m: \u001b[39m\u001b[38;5;132;01m{\u001b[39;00mexc\u001b[38;5;132;01m}\u001b[39;00m\u001b[38;5;124m\"\u001b[39m)\n\u001b[1;32m-> 2686\u001b[0m \u001b[38;5;28;01mraise\u001b[39;00m ex \u001b[38;5;28;01mfrom\u001b[39;00m\u001b[38;5;250m \u001b[39m\u001b[38;5;21;01mexc\u001b[39;00m\n",
      "\u001b[1;31mDatabaseError\u001b[0m: Execution failed on sql '\n        SELECT\n            name\n        FROM\n            sqlite_master\n        WHERE\n            type IN ('table', 'view')\n            AND name=?;\n        ': ('42S02', \"[42S02] [Microsoft][ODBC Driver 17 for SQL Server][SQL Server]Invalid object name 'sqlite_master'. (208) (SQLExecDirectW); [42S02] [Microsoft][ODBC Driver 17 for SQL Server][SQL Server]Statement(s) could not be prepared. (8180)\")"
     ]
    }
   ],
   "source": [
    "df=pd.read_sql_table(\"employees\",conn)"
   ]
  },
  {
   "cell_type": "code",
   "execution_count": null,
   "id": "6ee93997-75f8-4ee3-9ecb-74b55d141133",
   "metadata": {},
   "outputs": [],
   "source": []
  }
 ],
 "metadata": {
  "kernelspec": {
   "display_name": "Python [conda env:base] *",
   "language": "python",
   "name": "conda-base-py"
  },
  "language_info": {
   "codemirror_mode": {
    "name": "ipython",
    "version": 3
   },
   "file_extension": ".py",
   "mimetype": "text/x-python",
   "name": "python",
   "nbconvert_exporter": "python",
   "pygments_lexer": "ipython3",
   "version": "3.13.5"
  }
 },
 "nbformat": 4,
 "nbformat_minor": 5
}
